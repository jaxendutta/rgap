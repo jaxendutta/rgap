{
 "cells": [
  {
   "cell_type": "markdown",
   "metadata": {},
   "source": [
    "# Tri-Agency Research Grants Analysis\n",
    "\n",
    "This notebook analyzes grant data from Canada's three main research funding agencies:\n",
    "- NSERC (Natural Sciences and Engineering Research Council)\n",
    "- CIHR (Canadian Institutes of Health Research)\n",
    "- SSHRC (Social Sciences and Humanities Research Council)\n",
    "\n",
    "## 1. Setup and Data Collection\n",
    "\n",
    "First, let's import required libraries and set up our environment."
   ]
  },
  {
   "cell_type": "code",
   "execution_count": 1,
   "metadata": {},
   "outputs": [],
   "source": [
    "import pandas as pd\n",
    "import matplotlib.pyplot as plt\n",
    "import seaborn as sns\n",
    "from data.fetcher import Fetcher, FetcherConfig"
   ]
  },
  {
   "cell_type": "markdown",
   "metadata": {},
   "source": [
    "Now, let's fetch the grant data for 2019:"
   ]
  },
  {
   "cell_type": "code",
   "execution_count": null,
   "metadata": {},
   "outputs": [],
   "source": [
    "# Initialize fetcher with verbose output to see progress \n",
    "fetcher = Fetcher(FetcherConfig(verbose=True))\n",
    "\n",
    "# Fetch 2019 data (latest amendment versions only)\n",
    "year = '2019'\n",
    "grants_df = fetcher.fetch_all_orgs(\n",
    "    year=year,\n",
    "    verify_ssl=False,\n",
    "    handle_amendments='latest'\n",
    ")\n",
    "\n",
    "if not grants_df.empty:\n",
    "    results = fetcher.analyze_grants(grants_df)\n",
    "analysis = {}"
   ]
  },
  {
   "cell_type": "markdown",
   "metadata": {},
   "source": [
    "## 2. Basic Analysis\n",
    "\n",
    "Let's start with the built-in analysis functions:"
   ]
  },
  {
   "cell_type": "code",
   "execution_count": null,
   "metadata": {},
   "outputs": [],
   "source": [
    "analysis['org_summary'] = fetcher.get_org_summary(df = grants_df, display_table = True)"
   ]
  },
  {
   "cell_type": "markdown",
   "metadata": {},
   "source": [
    "## 3. Additional Analysis\n",
    "\n",
    "### 3.1 Temporal Distribution\n",
    "\n",
    "Let's look at how grants are distributed across months:"
   ]
  },
  {
   "cell_type": "code",
   "execution_count": null,
   "metadata": {},
   "outputs": [],
   "source": [
    "# Convert dates to datetime and extract month\n",
    "grants_df['start_month'] = pd.to_datetime(grants_df['agreement_start_date']).dt.month\n",
    "\n",
    "# Plot monthly distribution by organization\n",
    "fig, ax = plt.subplots(figsize=(12, 6))\n",
    "monthly_dist = grants_df.pivot_table(\n",
    "    index='start_month', \n",
    "    columns='org', \n",
    "    values='ref_number', \n",
    "    aggfunc='count'\n",
    ").fillna(0)\n",
    "\n",
    "monthly_dist.plot(kind='bar', stacked=True, ax=ax)\n",
    "ax.set_title(f'Grant Distribution by Month and Organization in {year}')\n",
    "ax.set_xlabel('Month')\n",
    "ax.set_ylabel('Number of Grants')\n",
    "ax.legend(title='Organization')\n",
    "ax.set_xticklabels(ax.get_xticklabels(), rotation=45)\n",
    "plt.tight_layout()\n",
    "plt.show()"
   ]
  },
  {
   "cell_type": "markdown",
   "metadata": {},
   "source": [
    "### 3.2 Grant Value Distributions\n",
    "Let's examine the distribution of grant values:"
   ]
  },
  {
   "cell_type": "code",
   "execution_count": null,
   "metadata": {},
   "outputs": [],
   "source": [
    "# Create box plot of grant values by organization\n",
    "plt.figure(figsize=(10, 6))\n",
    "sns.boxplot(data=grants_df, x='org', y='agreement_value')\n",
    "plt.xlabel('Organization')\n",
    "plt.ylabel('Grant Value ($)')\n",
    "plt.title(f'Distribution of Grant Values by Organization in {year}')\n",
    "plt.ylabel('Grant Value ($)')\n",
    "plt.yscale('log')  # Use log scale due to large range\n",
    "plt.xticks(rotation=45)\n",
    "plt.tight_layout()"
   ]
  },
  {
   "cell_type": "markdown",
   "metadata": {},
   "source": [
    "### 3.3 Geographic Analysis\n",
    "\n",
    "Let's analyze the geographic distribution of funding by province (and US states) in 2019:"
   ]
  },
  {
   "cell_type": "code",
   "execution_count": null,
   "metadata": {},
   "outputs": [],
   "source": [
    "analysis['provincial_distribution'] = fetcher.get_provincial_distribution(df = grants_df, display_table = True)"
   ]
  },
  {
   "cell_type": "markdown",
   "metadata": {},
   "source": [
    "### 3.4 Recipient Analysis\n",
    "\n",
    "Let's look at the top recipients by total funding:"
   ]
  },
  {
   "cell_type": "code",
   "execution_count": null,
   "metadata": {},
   "outputs": [],
   "source": [
    "analysis['top_recipients'] = fetcher.get_top_recipients(df = grants_df, display_table = True, top = 10)"
   ]
  },
  {
   "cell_type": "markdown",
   "metadata": {},
   "source": [
    "## 4. Findings and Insights\n",
    "\n",
    "1. **Temporal Patterns**: \n",
    "   - Clear seasonal peaks in grant distributions, with major spikes in April and May (~5,500-6,000 grants each)\n",
    "   - NSERC shows the highest activity in these peak months, followed by SSHRC\n",
    "   - Secondary peak in September (~3,000 grants)\n",
    "   - Relatively quiet periods in summer (July-August) and winter (December-January)\n",
    "   - Most agencies align their major grant distributions in spring months\n",
    "\n",
    "2. **Funding Distribution**:\n",
    "   - Total grant volume: 20,817 unique grants across all agencies\n",
    "   - Agency breakdown:\n",
    "     * NSERC: 12,080 grants (58% of volume but only 34% of total funding)\n",
    "     * SSHRC: 5,454 grants (26% of volume, 34% of funding)\n",
    "     * CIHR: 3,283 grants (16% of volume, 32% of funding)\n",
    "   - Average grant values vary significantly:\n",
    "     * CIHR: Highest average at $319,331 per grant\n",
    "     * SSHRC: Middle range at $200,184 per grant\n",
    "     * NSERC: Lowest average at $91,679 per grant\n",
    "   - Box plot shows CIHR has the highest median funding values and largest spread\n",
    "\n",
    "3. **Geographic Concentration**:\n",
    "   - Strong regional disparities in funding distribution\n",
    "   - Ontario dominates with $1.3B total funding (32% of all funding)\n",
    "   - Quebec follows with $845M (21% of total funding)\n",
    "   - British Columbia third with $424M (10% of total funding)\n",
    "   - These three provinces account for 63% of all research funding\n",
    "   - Territories and smaller provinces receive significantly less funding\n",
    "   - Some international funding present, primarily in US states (though minimal)\n",
    "\n",
    "4. **Institutional Leadership**:\n",
    "   - Top recipients show strong institutional concentration\n",
    "   - University of Toronto leads with single largest grant ($46.5M)\n",
    "   - Major research universities dominate the top 10\n",
    "   - Individual researchers appear in top recipients (e.g., Chertkow, Howard M with $31.6M CIHR grant)\n",
    "   - Montreal/Quebec institutions feature prominently (McGill, UdeM, Laval)\n",
    "   - All top 10 recipients received grants over $13.9M\n",
    "\n",
    "These insights reveal a research funding landscape characterized by strong geographic and institutional concentration, significant variations in grant sizes between agencies, and clear temporal patterns in grant distributions."
   ]
  },
  {
   "cell_type": "markdown",
   "metadata": {},
   "source": [
    "## 5. Next Steps\n",
    "\n",
    "Potential areas for deeper analysis:\n",
    "1. Year-over-year comparison (2018-2023)\n",
    "2. Research field analysis using grant titles/descriptions\n",
    "3. Network analysis of institutions and researchers\n",
    "4. Success rate analysis for different demographics\n",
    "5. Impact analysis using citation data (if available)"
   ]
  }
 ],
 "metadata": {
  "kernelspec": {
   "display_name": "venv",
   "language": "python",
   "name": "python3"
  },
  "language_info": {
   "codemirror_mode": {
    "name": "ipython",
    "version": 3
   },
   "file_extension": ".py",
   "mimetype": "text/x-python",
   "name": "python",
   "nbconvert_exporter": "python",
   "pygments_lexer": "ipython3",
   "version": "3.12.7"
  }
 },
 "nbformat": 4,
 "nbformat_minor": 2
}
